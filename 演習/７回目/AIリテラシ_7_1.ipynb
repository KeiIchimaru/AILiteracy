{
  "nbformat": 4,
  "nbformat_minor": 0,
  "metadata": {
    "colab": {
      "provenance": []
    },
    "kernelspec": {
      "name": "python3",
      "display_name": "Python 3"
    },
    "language_info": {
      "name": "python"
    },
    "gpuClass": "standard"
  },
  "cells": [
    {
      "cell_type": "markdown",
      "source": [
        "# AIリテラシ　第７回目\n",
        "### AIによる画像認識 -1-"
      ],
      "metadata": {
        "id": "mjeFiw5ZDE_o"
      }
    },
    {
      "cell_type": "markdown",
      "source": [
        "#### 必要なモジュールのインポート"
      ],
      "metadata": {
        "id": "kkVHkYcBESLs"
      }
    },
    {
      "cell_type": "code",
      "source": [
        "import numpy as np\n",
        "import matplotlib.pyplot as plt\n",
        "import pandas as pd\n",
        "from pandas import DataFrame, Series\n",
        "\n",
        "import tensorflow as tf\n",
        "from tensorflow.python.keras import layers, models\n",
        "\n",
        "print(\"TensolFlow : {}\".format(tf.__version__))\n",
        "print(\"Keras : {}\".format(tf.keras.__version__))\n",
        "print(\"ExecutingEager : {}\".format(tf.executing_eagerly()))"
      ],
      "metadata": {
        "id": "ijVF99dMDlDy"
      },
      "execution_count": null,
      "outputs": []
    },
    {
      "cell_type": "markdown",
      "source": [
        "#### 学習データの準備\n",
        "\n",
        "←のフォルダアイコンをクリック<br>\n",
        "表示されたアイコンから「セッションストレージにアップロード」をクリック<br>\n",
        "excel_7_1.csvをアップロードする<br>\n",
        "注: アップロードしたファイルはランタイムのリサイクル時に削除されます。"
      ],
      "metadata": {
        "id": "kLqZ4Th-E2DR"
      }
    },
    {
      "cell_type": "markdown",
      "source": [
        "### データの読み込み"
      ],
      "metadata": {
        "id": "NPjHdiFRIcnt"
      }
    },
    {
      "cell_type": "code",
      "source": [
        "data = pd.read_csv(\"excel_7_1.csv\")\n",
        "data.tail()"
      ],
      "metadata": {
        "id": "wlNW_8-2E4Bv"
      },
      "execution_count": null,
      "outputs": []
    },
    {
      "cell_type": "markdown",
      "source": [
        "### 学習データの準備"
      ],
      "metadata": {
        "id": "DJhl7n9zIy27"
      }
    },
    {
      "cell_type": "code",
      "source": [
        "train_x = data[['x', 'x2', 'x3', 'x4']].values\n",
        "train_t = data['t'].values\n",
        "\n",
        "#print(train_x)\n",
        "#print(train_t)"
      ],
      "metadata": {
        "id": "Nu4ehfVXI3kO"
      },
      "execution_count": null,
      "outputs": []
    },
    {
      "cell_type": "markdown",
      "source": [
        "### モデルの定義"
      ],
      "metadata": {
        "id": "XS3MIPq_K4n-"
      }
    },
    {
      "cell_type": "code",
      "source": [
        "model = models.Sequential()\n",
        "model.add(layers.Dense(1, input_shape=(4,), name='polynomial'))\n",
        "\n",
        "model.summary()"
      ],
      "metadata": {
        "id": "5shfW2AoK6ty"
      },
      "execution_count": null,
      "outputs": []
    },
    {
      "cell_type": "markdown",
      "source": [
        "### モデルのコンパイル"
      ],
      "metadata": {
        "id": "Bn4456YULRKE"
      }
    },
    {
      "cell_type": "code",
      "source": [
        "model.compile(optimizer='adam', loss='mse')"
      ],
      "metadata": {
        "id": "XmCxsxMzLT-1"
      },
      "execution_count": null,
      "outputs": []
    },
    {
      "cell_type": "markdown",
      "source": [
        "### 学習\n"
      ],
      "metadata": {
        "id": "M3eBneCvLdP0"
      }
    },
    {
      "cell_type": "code",
      "source": [
        "history = model.fit(train_x, train_t, batch_size=48, epochs=10)"
      ],
      "metadata": {
        "id": "Fu4AgnPIbdat"
      },
      "execution_count": null,
      "outputs": []
    },
    {
      "cell_type": "code",
      "source": [
        "history = model.fit(train_x, train_t, batch_size=48, epochs=25000, verbose=0)"
      ],
      "metadata": {
        "id": "i3M9AIP3Lgwm"
      },
      "execution_count": null,
      "outputs": []
    },
    {
      "cell_type": "markdown",
      "source": [
        "#### 学習経過の表示（誤差関数）"
      ],
      "metadata": {
        "id": "tkMl840AzGoD"
      }
    },
    {
      "cell_type": "code",
      "source": [
        "DataFrame({'loss': history.history['loss']}).plot(xlim=(0, 2000))\n",
        "DataFrame({'loss': history.history['loss']}).plot(ylim=(0, 10))"
      ],
      "metadata": {
        "id": "D_dQw0sJzIFP"
      },
      "execution_count": null,
      "outputs": []
    },
    {
      "cell_type": "markdown",
      "source": [
        "### 予想関数"
      ],
      "metadata": {
        "id": "PnviUwaW9Wdg"
      }
    },
    {
      "cell_type": "code",
      "source": [
        "w, b = model.get_weights()\n",
        "def predict(x):\n",
        "    pred = b[0] + sum([w[n][0] * x ** (n+1) for n in range(0, 4)])\n",
        "    return pred"
      ],
      "metadata": {
        "id": "uKQB2ASJ9YCJ"
      },
      "execution_count": null,
      "outputs": []
    },
    {
      "cell_type": "code",
      "source": [
        "print(w)\n",
        "print(b)"
      ],
      "metadata": {
        "id": "a6l1AcLq9gJa"
      },
      "execution_count": null,
      "outputs": []
    },
    {
      "cell_type": "markdown",
      "source": [
        "### 気温の予測グラフ"
      ],
      "metadata": {
        "id": "t2k-N_61-K4m"
      }
    },
    {
      "cell_type": "code",
      "source": [
        "n = train_t.shape[0]//12\n",
        "tt = train_t.reshape(n, 12)\n",
        "fig = plt.figure()\n",
        "subplot = fig.add_subplot(1,1,1)\n",
        "subplot.set_xlim(1,12)\n",
        "for j in range(0, n):\n",
        "  subplot.scatter(range(1,13), tt[j])\n",
        "linex = np.linspace(1,12,100)\n",
        "liney = predict(linex)\n",
        "subplot.plot(linex, liney)"
      ],
      "metadata": {
        "id": "sc-z-dGj-OPD"
      },
      "execution_count": null,
      "outputs": []
    },
    {
      "cell_type": "markdown",
      "source": [],
      "metadata": {
        "id": "6-9gizya9led"
      }
    }
  ]
}