{
  "nbformat": 4,
  "nbformat_minor": 0,
  "metadata": {
    "colab": {
      "provenance": []
    },
    "kernelspec": {
      "name": "python3",
      "display_name": "Python 3"
    },
    "language_info": {
      "name": "python"
    }
  },
  "cells": [
    {
      "cell_type": "markdown",
      "source": [
        "# AIリテラシ　第７回目\n",
        "### AIによる画像認識 -1-\n",
        "___\n",
        "__分類アルゴリズムの基礎__  \n",
        "ウイルスに感染しているかの予備調査データからウイルス感染を判定する<br>\n",
        "予備調査データは２つの数値（x<sub>1</sub>、x<sub>2</sub>）で与えられるものとする"
      ],
      "metadata": {
        "id": "XJlI57hoxBAf"
      }
    },
    {
      "cell_type": "markdown",
      "source": [
        "### 必要なモジュールのインポート"
      ],
      "metadata": {
        "id": "rQxg_nQYxtkN"
      }
    },
    {
      "cell_type": "code",
      "execution_count": null,
      "metadata": {
        "id": "2-J8Wcs8wpbq"
      },
      "outputs": [],
      "source": [
        "import numpy as np\n",
        "from numpy.random import multivariate_normal, permutation\n",
        "import pandas as pd\n",
        "from pandas import DataFrame\n",
        "import matplotlib.pyplot as plt\n",
        "\n",
        "import tensorflow as tf\n",
        "from tensorflow.python.keras import layers, models\n",
        "\n",
        "print(\"TensolFlow : {}\".format(tf.__version__))\n",
        "print(\"Keras : {}\".format(tf.keras.__version__))\n",
        "print(\"ExecutingEager : {}\".format(tf.executing_eagerly()))"
      ]
    },
    {
      "cell_type": "code",
      "source": [
        "!pip install japanize-matplotlib"
      ],
      "metadata": {
        "id": "jocc25NB3dRK"
      },
      "execution_count": null,
      "outputs": []
    },
    {
      "cell_type": "code",
      "source": [
        "import japanize_matplotlib"
      ],
      "metadata": {
        "id": "TlbAqXH-3hp7"
      },
      "execution_count": null,
      "outputs": []
    },
    {
      "cell_type": "markdown",
      "source": [
        "#### 学習データの準備"
      ],
      "metadata": {
        "id": "f-8z-Zerx3c1"
      }
    },
    {
      "cell_type": "code",
      "source": [
        "# 乱数の初期化\n",
        "np.random.seed(20221121)\n",
        "tf.random.set_seed(20221121)\n",
        "\n",
        "# 非感染データ\n",
        "n0, mu0, variance0 = 20, [10,11], 20\n",
        "data0 = multivariate_normal(mu0, np.eye(2)*variance0, n0)\n",
        "df0 = DataFrame(data0, columns=['x1', 'x2'])\n",
        "df0['t'] = 1\n",
        "\n",
        "# 感染データ\n",
        "n1, mu1, variance1 = 15, [18,20], 22\n",
        "data1 = multivariate_normal(mu1, np.eye(2)*variance1, n1)\n",
        "df1 = DataFrame(data1, columns=['x1', 'x2'])\n",
        "df1['t'] = 0\n",
        "\n",
        "df = pd.concat([df0, df1], ignore_index=True)\n",
        "train_set = df.reindex(permutation(df.index)).reset_index(drop=True)"
      ],
      "metadata": {
        "id": "7MFgKXvnx9kP"
      },
      "execution_count": null,
      "outputs": []
    },
    {
      "cell_type": "code",
      "source": [
        "train_set0 = train_set[train_set['t']==0]\n",
        "train_set1 = train_set[train_set['t']==1]\n",
        "\n",
        "fig = plt.figure()                                          # 描画全体の領域を確保\n",
        "subplot = fig.add_subplot(1, 1, 1)                          # グラフの描画領域を確保（行数,列数、サブ領域番号）\n",
        "subplot.set_ylim([0, 30])\n",
        "subplot.set_xlim([0, 30])\n",
        "subplot.scatter(train_set0.x1, train_set0.x2, marker='x', label='感染')\n",
        "subplot.scatter(train_set1.x1, train_set1.x2, marker='o', label='非感染')\n",
        "subplot.legend()"
      ],
      "metadata": {
        "id": "QrXwTT3nyWBa"
      },
      "execution_count": null,
      "outputs": []
    },
    {
      "cell_type": "code",
      "source": [
        "train_x = train_set[['x1', 'x2']].values\n",
        "train_t = train_set[['t']].values"
      ],
      "metadata": {
        "id": "iqhJZZ7m5f04"
      },
      "execution_count": null,
      "outputs": []
    },
    {
      "cell_type": "markdown",
      "source": [
        "### モデルの定義"
      ],
      "metadata": {
        "id": "RYc5XE-O44YS"
      }
    },
    {
      "cell_type": "code",
      "source": [
        "model = models.Sequential()\n",
        "model.add(layers.Dense(1, activation='sigmoid', input_shape=(2,), name='logistic_regression'))\n",
        "\n",
        "model.summary()"
      ],
      "metadata": {
        "id": "NOrnqk4T46EH"
      },
      "execution_count": null,
      "outputs": []
    },
    {
      "cell_type": "markdown",
      "source": [
        "### モデルのコンパイル"
      ],
      "metadata": {
        "id": "bB6f0h1W4-Ly"
      }
    },
    {
      "cell_type": "code",
      "source": [
        "model.compile(optimizer='adam', loss='binary_crossentropy', metrics=['acc'])"
      ],
      "metadata": {
        "id": "zDvEG6l-5GI4"
      },
      "execution_count": null,
      "outputs": []
    },
    {
      "cell_type": "markdown",
      "source": [
        "### 学習処理"
      ],
      "metadata": {
        "id": "2qGNgAkF5R6B"
      }
    },
    {
      "cell_type": "code",
      "source": [
        "history = model.fit(train_x, train_t, batch_size=len(train_x), epochs=5000, verbose=0)"
      ],
      "metadata": {
        "id": "G90xwsgl5TB3"
      },
      "execution_count": null,
      "outputs": []
    },
    {
      "cell_type": "markdown",
      "source": [
        "### 学習経過の表示"
      ],
      "metadata": {
        "id": "NNVera0R5pz9"
      }
    },
    {
      "cell_type": "code",
      "source": [
        "DataFrame({'acc': history.history['acc']}).plot()\n",
        "DataFrame({'loss': history.history['loss']}).plot()"
      ],
      "metadata": {
        "id": "eDwD2APy5q0C"
      },
      "execution_count": null,
      "outputs": []
    },
    {
      "cell_type": "markdown",
      "source": [
        "### 学習結果の表示"
      ],
      "metadata": {
        "id": "feeix6Ag56Zo"
      }
    },
    {
      "cell_type": "code",
      "source": [
        "[[w1], [w2]], [b] = model.get_weights()\n",
        "\n",
        "train_set0 = train_set[train_set['t']==0]\n",
        "train_set1 = train_set[train_set['t']==1]\n",
        "\n",
        "fig = plt.figure(figsize=(7, 7))\n",
        "subplot = fig.add_subplot(1, 1, 1)\n",
        "subplot.set_ylim([0, 30])\n",
        "subplot.set_xlim([0, 30])\n",
        "subplot.scatter(train_set0.x1, train_set0.x2, marker='x')\n",
        "subplot.scatter(train_set1.x1, train_set1.x2, marker='o')\n",
        "\n",
        "\n",
        "xs = np.linspace(0, 30, 10)\n",
        "ys = - (w1 * xs / w2 + b / w2)\n",
        "subplot.plot(xs, ys)\n",
        "\n",
        "field = [[(1 / (1 + np.exp(-(w1 * x1 + w2 * x2 + b))))\n",
        "          for x1 in np.linspace(0, 30, 100)]\n",
        "         for x2 in np.linspace(0, 30, 100)]\n",
        "subplot.imshow(field, origin='lower', extent=(0, 30, 0, 30), vmin=0, vmax=1, cmap=plt.cm.gray, alpha=0.5)"
      ],
      "metadata": {
        "id": "yq0UsMHM591X"
      },
      "execution_count": null,
      "outputs": []
    },
    {
      "cell_type": "code",
      "source": [
        "print(w1, w2, b)"
      ],
      "metadata": {
        "id": "R8Sr3PGE6_YR"
      },
      "execution_count": null,
      "outputs": []
    }
  ]
}