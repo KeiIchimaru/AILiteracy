{
  "nbformat": 4,
  "nbformat_minor": 0,
  "metadata": {
    "colab": {
      "provenance": []
    },
    "kernelspec": {
      "name": "python3",
      "display_name": "Python 3"
    },
    "language_info": {
      "name": "python"
    }
  },
  "cells": [
    {
      "cell_type": "markdown",
      "source": [
        "# AIリテラシ　第７回目\n",
        "### AIによる画像認識 -1-\n",
        "___\n",
        "__手書き文字の認識__  \n",
        "MNISTデータセットによる手書き文字の認識"
      ],
      "metadata": {
        "id": "XJlI57hoxBAf"
      }
    },
    {
      "cell_type": "markdown",
      "source": [
        "### 必要なモジュールのインポート"
      ],
      "metadata": {
        "id": "rQxg_nQYxtkN"
      }
    },
    {
      "cell_type": "code",
      "execution_count": null,
      "metadata": {
        "id": "2-J8Wcs8wpbq"
      },
      "outputs": [],
      "source": [
        "import numpy as np\n",
        "from numpy.random import multivariate_normal, permutation\n",
        "import pandas as pd\n",
        "from pandas import DataFrame\n",
        "import matplotlib.pyplot as plt\n",
        "\n",
        "import tensorflow as tf\n",
        "from tensorflow.python.keras import layers, models\n",
        "\n",
        "print(\"TensolFlow : {}\".format(tf.__version__))\n",
        "print(\"Keras : {}\".format(tf.keras.__version__))\n",
        "print(\"ExecutingEager : {}\".format(tf.executing_eagerly()))"
      ]
    },
    {
      "cell_type": "code",
      "source": [
        "!pip install japanize-matplotlib"
      ],
      "metadata": {
        "id": "jocc25NB3dRK"
      },
      "execution_count": null,
      "outputs": []
    },
    {
      "cell_type": "code",
      "source": [
        "import japanize_matplotlib"
      ],
      "metadata": {
        "id": "TlbAqXH-3hp7"
      },
      "execution_count": null,
      "outputs": []
    },
    {
      "cell_type": "markdown",
      "source": [
        "#### 学習データの準備"
      ],
      "metadata": {
        "id": "f-8z-Zerx3c1"
      }
    },
    {
      "cell_type": "code",
      "source": [
        "mnist = tf.keras.datasets.mnist"
      ],
      "metadata": {
        "id": "7MFgKXvnx9kP"
      },
      "execution_count": null,
      "outputs": []
    },
    {
      "cell_type": "code",
      "source": [
        "(train_images, train_labels), (test_images, test_labels) = mnist.load_data()\n",
        "train_images = train_images.reshape((len(train_images), 784)).astype('float32') / 255\n",
        "test_images = test_images.reshape((len(test_images), 784)).astype('float32') / 255\n",
        "train_labels = tf.keras.utils.to_categorical(train_labels, 10)\n",
        "test_labels = tf.keras.utils.to_categorical(test_labels, 10)"
      ],
      "metadata": {
        "id": "QrXwTT3nyWBa"
      },
      "execution_count": null,
      "outputs": []
    },
    {
      "cell_type": "markdown",
      "source": [
        "### 学習データの確認"
      ],
      "metadata": {
        "id": "jFsZlxObYRO-"
      }
    },
    {
      "cell_type": "code",
      "source": [
        "train_images[0]"
      ],
      "metadata": {
        "id": "3xYexLgFYT0T"
      },
      "execution_count": null,
      "outputs": []
    },
    {
      "cell_type": "code",
      "source": [
        "train_labels[0]"
      ],
      "metadata": {
        "id": "5BGYFsuuYZgG"
      },
      "execution_count": null,
      "outputs": []
    },
    {
      "cell_type": "markdown",
      "source": [
        "先頭を0とした時に、7の位置のみが1となっている。<br>\n",
        "「k番目の要素のみが1となっているリスト」でワンホット・エンコーディングと呼ぶ<br>\n",
        "機械学習でデータをいくつかのグループに分類する時によく使用される。"
      ],
      "metadata": {
        "id": "zCMgK0blYpfx"
      }
    },
    {
      "cell_type": "markdown",
      "source": [
        "### 画像イメージの確認"
      ],
      "metadata": {
        "id": "iw13mXlsZxsq"
      }
    },
    {
      "cell_type": "code",
      "source": [
        "fig = plt.figure(figsize=(8, 4))\n",
        "for c, (image, label) in enumerate(zip(train_images[:10], train_labels[:10])):\n",
        "    subplot = fig.add_subplot(2, 5, c+1)\n",
        "    subplot.set_xticks([])\n",
        "    subplot.set_yticks([])\n",
        "    subplot.set_title('%d' % np.argmax(label))\n",
        "    subplot.imshow(image.reshape((28, 28)), vmin=0, vmax=1, cmap=plt.cm.gray_r)"
      ],
      "metadata": {
        "id": "iRrgSuCrZ_w5"
      },
      "execution_count": null,
      "outputs": []
    },
    {
      "cell_type": "code",
      "source": [
        "for i in [0,4,5,9]:\n",
        "    print(\"train_labels\", \"(i=\"+str(i)+\"): \", train_labels[i])\n",
        "    print(\"train_images\", \"(i=\"+str(i)+\"): \")    \n",
        "    plt.imshow(train_images[i].reshape([28, 28]), cmap='gray')\n",
        "    plt.show()"
      ],
      "metadata": {
        "id": "99pOz5PZbdeB"
      },
      "execution_count": null,
      "outputs": []
    },
    {
      "cell_type": "markdown",
      "source": [
        "### モデルの定義"
      ],
      "metadata": {
        "id": "RYc5XE-O44YS"
      }
    },
    {
      "cell_type": "code",
      "source": [
        "model = models.Sequential()\n",
        "model.add(layers.Dense(10, activation='softmax', input_shape=(28*28,), name='softmax'))\n",
        "model.summary()\n"
      ],
      "metadata": {
        "id": "NOrnqk4T46EH"
      },
      "execution_count": null,
      "outputs": []
    },
    {
      "cell_type": "markdown",
      "source": [
        "### モデルのコンパイル"
      ],
      "metadata": {
        "id": "bB6f0h1W4-Ly"
      }
    },
    {
      "cell_type": "code",
      "source": [
        "model.compile(optimizer='adam', loss='categorical_crossentropy', metrics=['acc'])"
      ],
      "metadata": {
        "id": "zDvEG6l-5GI4"
      },
      "execution_count": null,
      "outputs": []
    },
    {
      "cell_type": "markdown",
      "source": [
        "### 学習処理"
      ],
      "metadata": {
        "id": "2qGNgAkF5R6B"
      }
    },
    {
      "cell_type": "code",
      "source": [
        "history = model.fit(train_images, train_labels,\n",
        "                    validation_data=(test_images, test_labels),\n",
        "                    batch_size=128, epochs=10, verbose=1)"
      ],
      "metadata": {
        "id": "G90xwsgl5TB3"
      },
      "execution_count": null,
      "outputs": []
    },
    {
      "cell_type": "markdown",
      "source": [
        "### 学習済みモデルによる予測結果の確認"
      ],
      "metadata": {
        "id": "NNVera0R5pz9"
      }
    },
    {
      "cell_type": "code",
      "source": [
        "p_val = model.predict(np.array(test_images))\n",
        "df = DataFrame({'pred': list(map(np.argmax, p_val)),\n",
        "                'label': list(map(np.argmax, test_labels))})\n",
        "correct = df[df['pred']==df['label']]\n",
        "incorrect = df[df['pred']!=df['label']]\n",
        "\n",
        "fig = plt.figure(figsize=(8, 15))\n",
        "plt.subplots_adjust(wspace=0.4, hspace=0.6) # subplot間の余白を設定\n",
        "for i in range(10):\n",
        "    indices = list(correct[correct['pred']==i].index[:3]) + list(incorrect[incorrect['pred']==i].index[:3])\n",
        "    for c, image in enumerate(test_images[indices]):\n",
        "        subplot = fig.add_subplot(10, 6, i*6+c+1)\n",
        "        subplot.set_xticks([])\n",
        "        subplot.set_yticks([])\n",
        "        subplot.set_title('%d / %d' % (i, df['label'][indices[c]]))\n",
        "        subplot.imshow(image.reshape((28, 28)), vmin=0, vmax=1, cmap=plt.cm.gray_r)"
      ],
      "metadata": {
        "id": "eDwD2APy5q0C"
      },
      "execution_count": null,
      "outputs": []
    }
  ]
}