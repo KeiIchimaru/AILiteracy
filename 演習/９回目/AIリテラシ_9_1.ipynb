{
  "nbformat": 4,
  "nbformat_minor": 0,
  "metadata": {
    "colab": {
      "provenance": []
    },
    "kernelspec": {
      "name": "python3",
      "display_name": "Python 3"
    },
    "language_info": {
      "name": "python"
    }
  },
  "cells": [
    {
      "cell_type": "markdown",
      "source": [
        "# AIリテラシ　第９回目\n",
        "### AIによる予測\n",
        "___\n",
        "__二酸化炭素排出量の予測__\n"
      ],
      "metadata": {
        "id": "iQr48a_qY6X6"
      }
    },
    {
      "cell_type": "markdown",
      "source": [
        "### 必要なモジュールのインポート"
      ],
      "metadata": {
        "id": "Ccu7PeabZYcl"
      }
    },
    {
      "cell_type": "markdown",
      "source": [
        "PyStan：StanのPythonインターフェース  \n",
        "Stan：統計的推論のための確率的プログラミング言語（https://mc-stan.org/）  \n",
        "\n",
        "fbprophet：Facebookによってつくられた「年周期」「週周期」「日周期」という３つの時系列データの周期性を利用して分析したり、予測する為のライブラリ"
      ],
      "metadata": {
        "id": "J-1gv-QWaxNJ"
      }
    },
    {
      "cell_type": "code",
      "source": [
        "!pip install pystan~=2.14\n",
        "!pip install fbprophet"
      ],
      "metadata": {
        "id": "kVcppiK2ZiKA"
      },
      "execution_count": null,
      "outputs": []
    },
    {
      "cell_type": "markdown",
      "source": [
        "### 時系列データの読み込み"
      ],
      "metadata": {
        "id": "SAKQcPKtb45B"
      }
    },
    {
      "cell_type": "code",
      "source": [
        "from vega_datasets import data\n",
        "co2 = data.co2_concentration()\n",
        "co2"
      ],
      "metadata": {
        "id": "rOglkmJJcMEG"
      },
      "execution_count": null,
      "outputs": []
    },
    {
      "cell_type": "markdown",
      "source": [
        "### データの可視化"
      ],
      "metadata": {
        "id": "RfdigLqpcSr7"
      }
    },
    {
      "cell_type": "code",
      "source": [
        "import plotly.express as px\n",
        "px.line(co2,x=\"Date\",y=\"CO2\")"
      ],
      "metadata": {
        "id": "x6iXNfvjcbPT"
      },
      "execution_count": null,
      "outputs": []
    },
    {
      "cell_type": "markdown",
      "source": [
        "### fbprophetを使用する上での制限への対応\n",
        "【制限事項】  \n",
        "・説明変数の列名：ds  \n",
        "・目的変数の列名：y\n",
        "\n",
        "【今回の場合】  \n",
        "説明変数→二酸化炭素排出量  \n",
        "目的変数→記録された日時"
      ],
      "metadata": {
        "id": "_MLFNK2Ccm-9"
      }
    },
    {
      "cell_type": "code",
      "source": [
        "co2.rename(columns={\"Date\":\"ds\",\"CO2\":\"y\"},inplace=True)\n",
        "co2.head()"
      ],
      "metadata": {
        "id": "MbdhtHcldid5"
      },
      "execution_count": null,
      "outputs": []
    },
    {
      "cell_type": "markdown",
      "source": [
        "### モデルの定義"
      ],
      "metadata": {
        "id": "IKnW3MEddzvq"
      }
    },
    {
      "cell_type": "code",
      "source": [
        "from fbprophet import Prophet\n",
        "model = Prophet()\n",
        "\n",
        "# Prophetにはsummaryはありません\n",
        "# model.summary()"
      ],
      "metadata": {
        "id": "BuSVuSVueJvz"
      },
      "execution_count": null,
      "outputs": []
    },
    {
      "cell_type": "markdown",
      "source": [
        "### 学習処理"
      ],
      "metadata": {
        "id": "95cmqxeIecF5"
      }
    },
    {
      "cell_type": "code",
      "source": [
        "model.fit(co2)"
      ],
      "metadata": {
        "id": "X0Rw2O1deiPi"
      },
      "execution_count": null,
      "outputs": []
    },
    {
      "cell_type": "markdown",
      "source": [
        "### 将来の予測モデルの作成\n",
        "periods：予測期間  \n",
        "freq：予測頻度"
      ],
      "metadata": {
        "id": "sF_rZpIWeqV-"
      }
    },
    {
      "cell_type": "code",
      "source": [
        "future = model.make_future_dataframe(periods=200, freq='M')"
      ],
      "metadata": {
        "id": "aLw91FgVey_t"
      },
      "execution_count": null,
      "outputs": []
    },
    {
      "cell_type": "markdown",
      "source": [
        "### 予測"
      ],
      "metadata": {
        "id": "9C4pM9PLe7VB"
      }
    },
    {
      "cell_type": "code",
      "source": [
        "forecast = model.predict(future)"
      ],
      "metadata": {
        "id": "eraVOnHzfSDr"
      },
      "execution_count": null,
      "outputs": []
    },
    {
      "cell_type": "markdown",
      "source": [
        "### 予測結果の表示"
      ],
      "metadata": {
        "id": "rm2VSirWfULR"
      }
    },
    {
      "cell_type": "code",
      "source": [
        "model.plot(forecast);"
      ],
      "metadata": {
        "id": "dPS7Zb7hfXCO"
      },
      "execution_count": null,
      "outputs": []
    },
    {
      "cell_type": "markdown",
      "source": [
        "### 変動分析"
      ],
      "metadata": {
        "id": "-pFj5K4_fl5z"
      }
    },
    {
      "cell_type": "code",
      "source": [
        "model.plot_components(forecast);"
      ],
      "metadata": {
        "id": "167O0BqJfqQd"
      },
      "execution_count": null,
      "outputs": []
    }
  ]
}