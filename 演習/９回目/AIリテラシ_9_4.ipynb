{
  "nbformat": 4,
  "nbformat_minor": 0,
  "metadata": {
    "colab": {
      "provenance": []
    },
    "kernelspec": {
      "name": "python3",
      "display_name": "Python 3"
    },
    "language_info": {
      "name": "python"
    }
  },
  "cells": [
    {
      "cell_type": "markdown",
      "source": [
        "# AIリテラシ　第９回目\n",
        "### AIによる予測\n",
        "___\n",
        "__スパムメールフィルタ__\n"
      ],
      "metadata": {
        "id": "iQr48a_qY6X6"
      }
    },
    {
      "cell_type": "markdown",
      "source": [
        "データをColaboへドラッグ＆ドロップでアップロードする  \n",
        "SMSSpamCollection"
      ],
      "metadata": {
        "id": "sQQowhma8a2W"
      }
    },
    {
      "cell_type": "markdown",
      "source": [
        "### データの読み込み\n",
        "データに列名が無い、タブ区切りの場合"
      ],
      "metadata": {
        "id": "SAKQcPKtb45B"
      }
    },
    {
      "cell_type": "code",
      "source": [
        "import pandas as pd\n",
        "email = pd.read_table('SMSSpamCollection', header=None, names=['type', 'text'])\n",
        "email"
      ],
      "metadata": {
        "id": "rOglkmJJcMEG"
      },
      "execution_count": null,
      "outputs": []
    },
    {
      "cell_type": "markdown",
      "source": [
        "### データの変換\n",
        "type列をham=>0、spam=>1に変換する"
      ],
      "metadata": {
        "id": "RfdigLqpcSr7"
      }
    },
    {
      "cell_type": "code",
      "source": [
        "types = email[\"type\"]\n",
        "types_01 = types.map({'ham': 0, 'spam': 1})\n",
        "email.iloc[:, 0] = types_01\n",
        "email.head()"
      ],
      "metadata": {
        "id": "x6iXNfvjcbPT"
      },
      "execution_count": null,
      "outputs": []
    },
    {
      "cell_type": "markdown",
      "source": [
        "### ワードクラウドの作成（SPAMメール）\n",
        "ワードクラウド：頻出語を頻度に比例する大きさで雲のように並べたもの  \n",
        "\n",
        "注）日本語は単語に分解する（形態素解析）のが難しいので今回は英語のメールを使用します  \n",
        "\n",
        "参考：https://okumuralab.org/~okumura/python/wordcloud.html  \n"
      ],
      "metadata": {
        "id": "q_d2h-_XxeAc"
      }
    },
    {
      "cell_type": "code",
      "source": [
        "from wordcloud import WordCloud\n",
        "import matplotlib.pyplot as plt\n",
        "\n",
        "spam = email[email['type'] == 1]\n",
        "spam_words = ' '.join(spam['text'])\n",
        "spam_wc = WordCloud()\n",
        "spam_wc.generate(spam_words)\n",
        "plt.imshow(spam_wc)\n",
        "plt.show()"
      ],
      "metadata": {
        "id": "OMcUq99rxhdz"
      },
      "execution_count": null,
      "outputs": []
    },
    {
      "cell_type": "code",
      "source": [
        "for k, v in spam_wc.words_.items():\n",
        "  if(v >= 0.3):\n",
        "    print(k, \":\", v)"
      ],
      "metadata": {
        "id": "KRL6xnfJyZNS"
      },
      "execution_count": null,
      "outputs": []
    },
    {
      "cell_type": "markdown",
      "source": [
        "### ワードクラウドの作成（通常メール）"
      ],
      "metadata": {
        "id": "3vvWkdobxz8u"
      }
    },
    {
      "cell_type": "code",
      "source": [
        "ham = email[email['type'] == 0]\n",
        "ham_words = ' '.join(ham['text'])\n",
        "ham_wc = WordCloud()\n",
        "ham_wc.generate(ham_words)\n",
        "plt.imshow(ham_wc)\n",
        "plt.show()"
      ],
      "metadata": {
        "id": "-E5BGQL0x80n"
      },
      "execution_count": null,
      "outputs": []
    },
    {
      "cell_type": "code",
      "source": [
        "for k, v in ham_wc.words_.items():\n",
        "  if(v >= 0.3):\n",
        "    print(k, \":\", v)"
      ],
      "metadata": {
        "id": "OK2FN_fV2EMr"
      },
      "execution_count": null,
      "outputs": []
    },
    {
      "cell_type": "markdown",
      "source": [
        "### 大文字を小文字に変換\n",
        "表記の揺れによる認識の変化が無いようにする  \n",
        "ex. Apple apple"
      ],
      "metadata": {
        "id": "3h0omW-o5Mnt"
      }
    },
    {
      "cell_type": "code",
      "source": [
        "email['text'] = email['text'].str.lower()\n",
        "email"
      ],
      "metadata": {
        "id": "Yp6ngElh5cuK"
      },
      "execution_count": null,
      "outputs": []
    },
    {
      "cell_type": "markdown",
      "source": [
        "### ストップワードの除去\n",
        "ストップワード：あまり意味のない単語で対象から除外する単語"
      ],
      "metadata": {
        "id": "aSh5THlT2vWA"
      }
    },
    {
      "cell_type": "code",
      "source": [
        "print(list(spam_wc.stopwords)[0:10])\n",
        "print(list(ham_wc.stopwords)[0:10])"
      ],
      "metadata": {
        "id": "wrheqGz53rHp"
      },
      "execution_count": null,
      "outputs": []
    },
    {
      "cell_type": "code",
      "source": [
        "stop_words_list = list(ham_wc.stopwords)\n",
        "stop_words_list.extend([\"00\", \"000\", \"02\", \"0207\"])"
      ],
      "metadata": {
        "id": "GbEoZoqz7G2l"
      },
      "execution_count": null,
      "outputs": []
    },
    {
      "cell_type": "markdown",
      "source": [
        "### 形態素解析の実行"
      ],
      "metadata": {
        "id": "_pKhWuaU4qZN"
      }
    },
    {
      "cell_type": "code",
      "source": [
        "from sklearn.feature_extraction.text import CountVectorizer\n",
        "vector = CountVectorizer(min_df = 3, stop_words=stop_words_list)\n",
        "vector.fit(email['text'])\n",
        "text_vec = vector.transform(email['text'])\n",
        "\n",
        "dict(list(vector.vocabulary_.items())[0:5])"
      ],
      "metadata": {
        "id": "wQ6G0JzT45bs"
      },
      "execution_count": null,
      "outputs": []
    },
    {
      "cell_type": "code",
      "source": [
        "# ベクトル化した内容\n",
        "pd.DataFrame(text_vec.toarray(), columns=vector.get_feature_names())"
      ],
      "metadata": {
        "id": "7L60teyi9dN3"
      },
      "execution_count": null,
      "outputs": []
    },
    {
      "cell_type": "markdown",
      "source": [
        "### スパム分類AIの作成"
      ],
      "metadata": {
        "id": "VG3qh2o6hqkd"
      }
    },
    {
      "cell_type": "code",
      "source": [
        "from sklearn.naive_bayes import BernoulliNB\n",
        "model = BernoulliNB()\n",
        "model.fit(text_vec, email['type'])"
      ],
      "metadata": {
        "id": "je7sg_kzhvfA"
      },
      "execution_count": null,
      "outputs": []
    },
    {
      "cell_type": "markdown",
      "source": [
        "### 分類の成功率"
      ],
      "metadata": {
        "id": "SufxkkgNh7dl"
      }
    },
    {
      "cell_type": "code",
      "source": [
        "model.score(text_vec, email['type'])"
      ],
      "metadata": {
        "id": "5YBL5I_piB5D"
      },
      "execution_count": null,
      "outputs": []
    },
    {
      "cell_type": "markdown",
      "source": [
        "### 正常メールの判定テスト"
      ],
      "metadata": {
        "id": "4Shr6IeYiDYN"
      }
    },
    {
      "cell_type": "code",
      "source": [
        "test = pd.DataFrame(['I cant pick the phone right now.'])\n",
        "test_vec = vector.transform(test[0])\n",
        "model.predict(test_vec)"
      ],
      "metadata": {
        "id": "GqTj4nNiiL5C"
      },
      "execution_count": null,
      "outputs": []
    },
    {
      "cell_type": "markdown",
      "source": [
        "### スパムメールの判定テスト"
      ],
      "metadata": {
        "id": "qQSjpS5kiQSo"
      }
    },
    {
      "cell_type": "code",
      "source": [
        "test = pd.DataFrame(['Congratulations ur awarded $500.'])\n",
        "test_vec = vector.transform(test[0])\n",
        "model.predict(test_vec)"
      ],
      "metadata": {
        "id": "0Xcl37_aiTbn"
      },
      "execution_count": null,
      "outputs": []
    }
  ]
}