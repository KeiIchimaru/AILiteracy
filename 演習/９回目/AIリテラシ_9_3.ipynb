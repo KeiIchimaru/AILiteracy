{
  "nbformat": 4,
  "nbformat_minor": 0,
  "metadata": {
    "colab": {
      "provenance": []
    },
    "kernelspec": {
      "name": "python3",
      "display_name": "Python 3"
    },
    "language_info": {
      "name": "python"
    }
  },
  "cells": [
    {
      "cell_type": "markdown",
      "source": [
        "# AIリテラシ　第９回目\n",
        "### AIによる予測\n",
        "___\n",
        "__買い物かごに関する分析__\n"
      ],
      "metadata": {
        "id": "iQr48a_qY6X6"
      }
    },
    {
      "cell_type": "markdown",
      "source": [
        "データをColaboへドラッグ＆ドロップでアップロードする  \n",
        "dataset_group.csv"
      ],
      "metadata": {
        "id": "sQQowhma8a2W"
      }
    },
    {
      "cell_type": "markdown",
      "source": [
        "### データの読み込み\n",
        "データに列名が無い場合"
      ],
      "metadata": {
        "id": "SAKQcPKtb45B"
      }
    },
    {
      "cell_type": "code",
      "source": [
        "import pandas as pd\n",
        "df = pd.read_csv('dataset_group.csv', header=None, names=['date', 'customer_id', 'item_name'])\n",
        "df"
      ],
      "metadata": {
        "id": "rOglkmJJcMEG"
      },
      "execution_count": null,
      "outputs": []
    },
    {
      "cell_type": "markdown",
      "source": [
        "### データの変換\n",
        "商品毎のデータになっているものを、顧客毎に購入した商品をまとめる"
      ],
      "metadata": {
        "id": "RfdigLqpcSr7"
      }
    },
    {
      "cell_type": "code",
      "source": [
        "dataset = df.groupby('customer_id')['item_name'].apply(list)\n",
        "dataset"
      ],
      "metadata": {
        "id": "x6iXNfvjcbPT"
      },
      "execution_count": null,
      "outputs": []
    },
    {
      "cell_type": "markdown",
      "source": [
        "### mlxtendをインストールする\n",
        "機械学習やデータ分析等のタスクにおいて便利なツールが用意されたPythonライブラリ  \n",
        "本家：http://rasbt.github.io/mlxtend/  \n",
        "参考：https://qiita.com/altescy/items/60a6def66f13267f6347"
      ],
      "metadata": {
        "id": "_MLFNK2Ccm-9"
      }
    },
    {
      "cell_type": "code",
      "source": [
        "!pip install mlxtend"
      ],
      "metadata": {
        "id": "MbdhtHcldid5"
      },
      "execution_count": null,
      "outputs": []
    },
    {
      "cell_type": "markdown",
      "source": [
        "### 頻出商品の抽出\n",
        "複数の顧客が購入することが多い商品を抽出してみる"
      ],
      "metadata": {
        "id": "IKnW3MEddzvq"
      }
    },
    {
      "cell_type": "code",
      "source": [
        "from mlxtend.preprocessing import TransactionEncoder\n",
        "from mlxtend.frequent_patterns import apriori\n",
        "te = TransactionEncoder()\n",
        "te_ary = te.fit(dataset).transform(dataset)\n",
        "\n",
        "te.columns_"
      ],
      "metadata": {
        "id": "BuSVuSVueJvz"
      },
      "execution_count": null,
      "outputs": []
    },
    {
      "cell_type": "code",
      "source": [
        "df2 = pd.DataFrame(te_ary, columns=te.columns_)\n",
        "df2"
      ],
      "metadata": {
        "id": "CBQE1jF9BUOE"
      },
      "execution_count": null,
      "outputs": []
    },
    {
      "cell_type": "code",
      "source": [
        "frequent_itemsets = apriori(df2, min_support=0.04, use_colnames=True)\n",
        "\n",
        "frequent_itemsets"
      ],
      "metadata": {
        "id": "cWb4oh9TCWvj"
      },
      "execution_count": null,
      "outputs": []
    },
    {
      "cell_type": "markdown",
      "source": [
        "### アソシエーション分析の実行"
      ],
      "metadata": {
        "id": "95cmqxeIecF5"
      }
    },
    {
      "cell_type": "code",
      "source": [
        "from mlxtend.frequent_patterns import association_rules\n",
        "\n",
        "rules = association_rules(frequent_itemsets, metric = \"lift\", min_threshold = 1)\n",
        "rules = rules.sort_values('support', ascending = False).reset_index(drop=True)\n",
        "\n",
        "display(rules)"
      ],
      "metadata": {
        "id": "X0Rw2O1deiPi"
      },
      "execution_count": null,
      "outputs": []
    },
    {
      "cell_type": "markdown",
      "source": [
        "| データ項目 | 項目概要 |\n",
        "| ---- | ---- |\n",
        "| antecedents | 前提条件（事象A） |\n",
        "| consequents | 結果（事象B） |\n",
        "| antecedent support | 全体の中で、事象Aが占める割合（＝事象Aの期待信頼度） |\n",
        "| consequent support | 全体の中で、事象Bが占める割合（＝事象Bの期待信頼度） |\n",
        "| support | 全体の中で、事象Aと事象Bの組み合わせが占める割合 |\n",
        "| confidence | 事象Aを含むデータの中で、事象Bが占める確率 |\n",
        "| lift | lift = confidence/consequent support |\n",
        "| leverage | 事象Aと事象Bの観測頻度と、事象Aと事象Bが独立している場合に予想される頻度の差<br>leverage=0は完全な独立性を示す |\n",
        "| conviction | convictionが高い場合、事象Bが事象Aとの相互性が高いことを指す |"
      ],
      "metadata": {
        "id": "1zad4s_Y5CFz"
      }
    }
  ]
}