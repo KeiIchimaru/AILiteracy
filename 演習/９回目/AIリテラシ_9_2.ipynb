{
  "nbformat": 4,
  "nbformat_minor": 0,
  "metadata": {
    "colab": {
      "provenance": []
    },
    "kernelspec": {
      "name": "python3",
      "display_name": "Python 3"
    },
    "language_info": {
      "name": "python"
    }
  },
  "cells": [
    {
      "cell_type": "markdown",
      "source": [
        "# AIリテラシ　第９回目\n",
        "### AIによる予測\n",
        "___\n",
        "__クラスター分析__\n"
      ],
      "metadata": {
        "id": "iQr48a_qY6X6"
      }
    },
    {
      "cell_type": "markdown",
      "source": [
        "### Iresデータセットの読み込み"
      ],
      "metadata": {
        "id": "SAKQcPKtb45B"
      }
    },
    {
      "cell_type": "code",
      "source": [
        "import pandas as pd\n",
        "import numpy as np\n",
        "from sklearn.cluster import KMeans\n",
        "from sklearn.datasets import load_iris\n",
        "\n",
        "iris = load_iris()\n",
        "iris_df = pd.DataFrame(iris.data, columns=iris.feature_names) # iris.data : 説明変数\n",
        "iris_df[\"class\"] = iris.target # 目的変数\n",
        "\n",
        "iris_df.head()"
      ],
      "metadata": {
        "id": "rOglkmJJcMEG"
      },
      "execution_count": null,
      "outputs": []
    },
    {
      "cell_type": "markdown",
      "source": [
        "### データセットの説明を表示"
      ],
      "metadata": {
        "id": "RfdigLqpcSr7"
      }
    },
    {
      "cell_type": "code",
      "source": [
        "print(iris.DESCR)"
      ],
      "metadata": {
        "id": "x6iXNfvjcbPT"
      },
      "execution_count": null,
      "outputs": []
    },
    {
      "cell_type": "markdown",
      "source": [
        "### 各種統計量の表示\n",
        "describe()：各列ごとに平均や標準偏差、最大値、最小値、最頻値などの要約統計量を取得"
      ],
      "metadata": {
        "id": "_MLFNK2Ccm-9"
      }
    },
    {
      "cell_type": "code",
      "source": [
        "iris_df.describe()"
      ],
      "metadata": {
        "id": "MbdhtHcldid5"
      },
      "execution_count": null,
      "outputs": []
    },
    {
      "cell_type": "markdown",
      "source": [
        "### 説明変数、目的変数の関係を一覧表示\n",
        "seaborn：ビジュアライゼーションライブラリ  \n",
        "pairplot()：ペアプロット図（散布図行列）を作成\n",
        "\n",
        "ペアプロット：複数の変数列があるデータに対し、全ての変数の組み合わせ毎に相関関係を見るためのプロット。対角線上にヒストグラム、その他の位置に散布図が表示される"
      ],
      "metadata": {
        "id": "IKnW3MEddzvq"
      }
    },
    {
      "cell_type": "code",
      "source": [
        "import seaborn as sns\n",
        "\n",
        "sns.pairplot(iris_df, hue=\"class\")"
      ],
      "metadata": {
        "id": "BuSVuSVueJvz"
      },
      "execution_count": null,
      "outputs": []
    },
    {
      "cell_type": "markdown",
      "source": [
        "### k平均法の実装"
      ],
      "metadata": {
        "id": "95cmqxeIecF5"
      }
    },
    {
      "cell_type": "code",
      "source": [
        "model = KMeans(n_clusters=3) # k平均法　クラスタ数：3\n",
        "model.fit(iris.data)"
      ],
      "metadata": {
        "id": "X0Rw2O1deiPi"
      },
      "execution_count": null,
      "outputs": []
    },
    {
      "cell_type": "markdown",
      "source": [
        "### k平均法によるグループ分けの表示"
      ],
      "metadata": {
        "id": "azSXB2_2E-Pl"
      }
    },
    {
      "cell_type": "code",
      "source": [
        "import matplotlib.pyplot as plt\n",
        "\n",
        "axis_1 = 2\n",
        "axis_2 = 3\n",
        "\n",
        "# ラベル=0のグループ\n",
        "group_0 = iris.data[model.labels_ == 0]\n",
        "plt.scatter(group_0[:, axis_1], group_0[:, axis_2], marker=\"x\")\n",
        "\n",
        "# ラベル=1のグループ\n",
        "group_1 = iris.data[model.labels_ == 1]\n",
        "plt.scatter(group_1[:, axis_1], group_1[:, axis_2], marker=\".\")\n",
        "\n",
        "# ラベル=2のグループ\n",
        "group_2 = iris.data[model.labels_ == 2]\n",
        "plt.scatter(group_2[:, axis_1], group_2[:, axis_2], marker=\"+\")\n",
        "\n",
        "plt.xlabel(iris.feature_names[axis_1])\n",
        "plt.ylabel(iris.feature_names[axis_2])\n",
        "plt.show()"
      ],
      "metadata": {
        "id": "_-rjju2kFDEQ"
      },
      "execution_count": null,
      "outputs": []
    },
    {
      "cell_type": "markdown",
      "source": [
        "### 元データのラベル（正解）を使って表示"
      ],
      "metadata": {
        "id": "W4L8tu_hGhkW"
      }
    },
    {
      "cell_type": "code",
      "source": [
        "# ラベル=0のグループ\n",
        "group_0 = iris.data[iris.target == 0]\n",
        "plt.scatter(group_0[:, axis_1], group_0[:, axis_2], marker=\".\")\n",
        "\n",
        "# ラベル=1のグループ\n",
        "group_1 = iris.data[iris.target == 1]\n",
        "plt.scatter(group_1[:, axis_1], group_1[:, axis_2], marker=\"x\")\n",
        "\n",
        "# ラベル=2のグループ\n",
        "group_2 = iris.data[iris.target == 2]\n",
        "plt.scatter(group_2[:, axis_1], group_2[:, axis_2], marker=\"+\")\n",
        "\n",
        "plt.xlabel(iris.feature_names[axis_1])\n",
        "plt.ylabel(iris.feature_names[axis_2])\n",
        "plt.show()"
      ],
      "metadata": {
        "id": "uE0TVTFTGoPA"
      },
      "execution_count": null,
      "outputs": []
    }
  ]
}